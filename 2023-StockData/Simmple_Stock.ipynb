{
  "cells": [
    {
      "cell_type": "code",
      "execution_count": 1,
      "metadata": {},
      "outputs": [],
      "source": [
        "import pandas\n",
        "import matplotlib.pyplot"
      ]
    },
    {
      "cell_type": "code",
      "execution_count": 19,
      "metadata": {
        "id": "iu7dBOESS_HT"
      },
      "outputs": [],
      "source": [
        "# SoftBank Stock data from Stooq.com \n",
        "# reference https://seanmemo.com/234/\n",
        "\n",
        "from pandas_datareader import data\n",
        "\n",
        "# 企業コード設定\n",
        "Ccode = '9766.JP'\n",
        "\n",
        "# サイト設定\n",
        "Site = 'stooq'\n",
        "\n",
        "# 日付設定\n",
        "Year = 2023\n",
        "Month = 5\n",
        "Day = 9\n",
        "\n",
        "# 日数指定\n",
        "days = 10\n",
        "df = pandas.DataFrame()\n",
        "while days > 0:\n",
        "    Calendar = str(Year) + '-' + str(Month) + '-' + str(Day)\n",
        "    dftemp = data.DataReader(Ccode, Site, Calendar, Calendar)\n",
        "    df = pandas.concat([df, dftemp], axis = 0)\n",
        "    Day = Day - 1\n",
        "    if Day < 1:\n",
        "        Day = 30\n",
        "        Month = Month - 1\n",
        "\n",
        "    if not dftemp.empty:\n",
        "        days = days - 1\n"
      ]
    },
    {
      "cell_type": "code",
      "execution_count": 20,
      "metadata": {
        "colab": {
          "base_uri": "https://localhost:8080/",
          "height": 469
        },
        "id": "X1ZMmhe8VDaN",
        "outputId": "37ebdfbf-b4d9-47bd-8f3c-e321dded59f6"
      },
      "outputs": [
        {
          "name": "stdout",
          "output_type": "stream",
          "text": [
            "KONAMI Group Co.\n"
          ]
        },
        {
          "data": {
            "text/html": [
              "<div>\n",
              "<style scoped>\n",
              "    .dataframe tbody tr th:only-of-type {\n",
              "        vertical-align: middle;\n",
              "    }\n",
              "\n",
              "    .dataframe tbody tr th {\n",
              "        vertical-align: top;\n",
              "    }\n",
              "\n",
              "    .dataframe thead th {\n",
              "        text-align: right;\n",
              "    }\n",
              "</style>\n",
              "<table border=\"1\" class=\"dataframe\">\n",
              "  <thead>\n",
              "    <tr style=\"text-align: right;\">\n",
              "      <th></th>\n",
              "      <th>Open</th>\n",
              "      <th>High</th>\n",
              "      <th>Low</th>\n",
              "      <th>Close</th>\n",
              "      <th>Volume</th>\n",
              "    </tr>\n",
              "    <tr>\n",
              "      <th>Date</th>\n",
              "      <th></th>\n",
              "      <th></th>\n",
              "      <th></th>\n",
              "      <th></th>\n",
              "      <th></th>\n",
              "    </tr>\n",
              "  </thead>\n",
              "  <tbody>\n",
              "    <tr>\n",
              "      <th>2023-05-09</th>\n",
              "      <td>6650</td>\n",
              "      <td>6700</td>\n",
              "      <td>6620</td>\n",
              "      <td>6680</td>\n",
              "      <td>504100</td>\n",
              "    </tr>\n",
              "    <tr>\n",
              "      <th>2023-05-08</th>\n",
              "      <td>6600</td>\n",
              "      <td>6700</td>\n",
              "      <td>6550</td>\n",
              "      <td>6550</td>\n",
              "      <td>524500</td>\n",
              "    </tr>\n",
              "    <tr>\n",
              "      <th>2023-05-02</th>\n",
              "      <td>6710</td>\n",
              "      <td>6740</td>\n",
              "      <td>6660</td>\n",
              "      <td>6690</td>\n",
              "      <td>516700</td>\n",
              "    </tr>\n",
              "    <tr>\n",
              "      <th>2023-05-01</th>\n",
              "      <td>6690</td>\n",
              "      <td>6760</td>\n",
              "      <td>6620</td>\n",
              "      <td>6650</td>\n",
              "      <td>599600</td>\n",
              "    </tr>\n",
              "    <tr>\n",
              "      <th>2023-04-28</th>\n",
              "      <td>6570</td>\n",
              "      <td>6720</td>\n",
              "      <td>6550</td>\n",
              "      <td>6690</td>\n",
              "      <td>524000</td>\n",
              "    </tr>\n",
              "    <tr>\n",
              "      <th>2023-04-27</th>\n",
              "      <td>6570</td>\n",
              "      <td>6590</td>\n",
              "      <td>6500</td>\n",
              "      <td>6530</td>\n",
              "      <td>549900</td>\n",
              "    </tr>\n",
              "    <tr>\n",
              "      <th>2023-04-26</th>\n",
              "      <td>6380</td>\n",
              "      <td>6620</td>\n",
              "      <td>6350</td>\n",
              "      <td>6520</td>\n",
              "      <td>676300</td>\n",
              "    </tr>\n",
              "    <tr>\n",
              "      <th>2023-04-25</th>\n",
              "      <td>6500</td>\n",
              "      <td>6510</td>\n",
              "      <td>6400</td>\n",
              "      <td>6410</td>\n",
              "      <td>391200</td>\n",
              "    </tr>\n",
              "    <tr>\n",
              "      <th>2023-04-24</th>\n",
              "      <td>6420</td>\n",
              "      <td>6490</td>\n",
              "      <td>6380</td>\n",
              "      <td>6490</td>\n",
              "      <td>366200</td>\n",
              "    </tr>\n",
              "    <tr>\n",
              "      <th>2023-04-21</th>\n",
              "      <td>6380</td>\n",
              "      <td>6440</td>\n",
              "      <td>6330</td>\n",
              "      <td>6340</td>\n",
              "      <td>388000</td>\n",
              "    </tr>\n",
              "  </tbody>\n",
              "</table>\n",
              "</div>"
            ],
            "text/plain": [
              "            Open  High   Low  Close  Volume\n",
              "Date                                       \n",
              "2023-05-09  6650  6700  6620   6680  504100\n",
              "2023-05-08  6600  6700  6550   6550  524500\n",
              "2023-05-02  6710  6740  6660   6690  516700\n",
              "2023-05-01  6690  6760  6620   6650  599600\n",
              "2023-04-28  6570  6720  6550   6690  524000\n",
              "2023-04-27  6570  6590  6500   6530  549900\n",
              "2023-04-26  6380  6620  6350   6520  676300\n",
              "2023-04-25  6500  6510  6400   6410  391200\n",
              "2023-04-24  6420  6490  6380   6490  366200\n",
              "2023-04-21  6380  6440  6330   6340  388000"
            ]
          },
          "execution_count": 20,
          "metadata": {},
          "output_type": "execute_result"
        }
      ],
      "source": [
        "print(\"KONAMI Group Co.\")\n",
        "df"
      ]
    },
    {
      "cell_type": "code",
      "execution_count": 21,
      "metadata": {},
      "outputs": [
        {
          "data": {
            "text/plain": [
              "<Axes: title={'center': 'KONAMI'}, xlabel='Date'>"
            ]
          },
          "execution_count": 21,
          "metadata": {},
          "output_type": "execute_result"
        },
        {
          "data": {
            "image/png": "[encoded data removed]",
            "text/plain": [
              "<Figure size 640x480 with 1 Axes>"
            ]
          },
          "metadata": {},
          "output_type": "display_data"
        }
      ],
      "source": [
        "dfGraph = pandas.DataFrame({'KONAMI':df['Close']})\n",
        "dfGraph.plot(title='KONAMI',grid=True)"
      ]
    }
  ],
  "metadata": {
    "colab": {
      "provenance": []
    },
    "kernelspec": {
      "display_name": "Python 3",
      "name": "python3"
    },
    "language_info": {
      "codemirror_mode": {
        "name": "ipython",
        "version": 3
      },
      "file_extension": ".py",
      "mimetype": "text/x-python",
      "name": "python",
      "nbconvert_exporter": "python",
      "pygments_lexer": "ipython3",
      "version": "3.10.4"
    }
  },
  "nbformat": 4,
  "nbformat_minor": 0
}
